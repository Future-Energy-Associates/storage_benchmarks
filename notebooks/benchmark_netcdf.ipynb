{
 "cells": [
  {
   "cell_type": "code",
   "execution_count": 52,
   "metadata": {},
   "outputs": [],
   "source": [
    "import os\n",
    "from pathlib import Path\n",
    "import xarray as xr\n",
    "import time\n",
    "import pandas as pd\n",
    "import numpy as np"
   ]
  },
  {
   "cell_type": "code",
   "execution_count": 2,
   "metadata": {},
   "outputs": [],
   "source": [
    "SATELLITE_DATA_PATH = Path('~/data/EUMETSAT/reprojected/just_UK/2019/06/03/').expanduser()"
   ]
  },
  {
   "cell_type": "code",
   "execution_count": 3,
   "metadata": {},
   "outputs": [
    {
     "name": "stdout",
     "output_type": "stream",
     "text": [
      "18 netcdf files found.\n"
     ]
    }
   ],
   "source": [
    "netcdf_filenames = SATELLITE_DATA_PATH.glob('*.nc')\n",
    "netcdf_filenames = list(netcdf_filenames)\n",
    "print(f'{len(netcdf_filenames)} netcdf files found.')"
   ]
  },
  {
   "cell_type": "code",
   "execution_count": 4,
   "metadata": {},
   "outputs": [
    {
     "data": {
      "text/plain": [
       "PosixPath('/Users/JackKelly/data/EUMETSAT/reprojected/just_UK/2019/06/03/2019-06-03T08.nc')"
      ]
     },
     "execution_count": 4,
     "metadata": {},
     "output_type": "execute_result"
    }
   ],
   "source": [
    "filename = netcdf_filenames[1]\n",
    "filename"
   ]
  },
  {
   "cell_type": "code",
   "execution_count": 65,
   "metadata": {},
   "outputs": [],
   "source": [
    "def load_all():\n",
    "    for filename in netcdf_filenames:\n",
    "        ds = xr.load_dataset(filename)"
   ]
  },
  {
   "cell_type": "code",
   "execution_count": 66,
   "metadata": {},
   "outputs": [],
   "source": [
    "def load_rectange():\n",
    "    for filename in netcdf_filenames:\n",
    "        ds = xr.open_dataset(filename)['HRV']\n",
    "        # Dimensions are time, x, y\n",
    "        ds_rect = ds[:, 128:256, 128:256]\n",
    "        ds_rect.load()"
   ]
  },
  {
   "cell_type": "code",
   "execution_count": 62,
   "metadata": {},
   "outputs": [],
   "source": [
    "NUM_RUNS = 3\n",
    "col_to_func = {'all': load_all, 'rectangle': load_rectange}\n",
    "runtimes = pd.DataFrame(np.NaN, columns=col_to_func.keys(), index=range(NUM_RUNS))"
   ]
  },
  {
   "cell_type": "code",
   "execution_count": 67,
   "metadata": {},
   "outputs": [
    {
     "name": "stdout",
     "output_type": "stream",
     "text": [
      "0\n",
      "all\n",
      "rectange\n",
      "1\n",
      "all\n",
      "rectange\n",
      "2\n",
      "all\n",
      "rectange\n"
     ]
    }
   ],
   "source": [
    "for run_i in range(NUM_RUNS):\n",
    "    print(run_i)\n",
    "    for col, func in col_to_func.items():\n",
    "        print(col)\n",
    "        t0 = time.time()\n",
    "        func()\n",
    "        t1 = time.time()\n",
    "        runtime = t1 - t0\n",
    "        runtimes[col][run_i] = runtime"
   ]
  },
  {
   "cell_type": "code",
   "execution_count": 68,
   "metadata": {},
   "outputs": [
    {
     "data": {
      "text/html": [
       "<div>\n",
       "<style scoped>\n",
       "    .dataframe tbody tr th:only-of-type {\n",
       "        vertical-align: middle;\n",
       "    }\n",
       "\n",
       "    .dataframe tbody tr th {\n",
       "        vertical-align: top;\n",
       "    }\n",
       "\n",
       "    .dataframe thead th {\n",
       "        text-align: right;\n",
       "    }\n",
       "</style>\n",
       "<table border=\"1\" class=\"dataframe\">\n",
       "  <thead>\n",
       "    <tr style=\"text-align: right;\">\n",
       "      <th></th>\n",
       "      <th>all</th>\n",
       "      <th>rectange</th>\n",
       "    </tr>\n",
       "  </thead>\n",
       "  <tbody>\n",
       "    <tr>\n",
       "      <th>0</th>\n",
       "      <td>4.086652</td>\n",
       "      <td>0.525295</td>\n",
       "    </tr>\n",
       "    <tr>\n",
       "      <th>1</th>\n",
       "      <td>3.866280</td>\n",
       "      <td>0.537991</td>\n",
       "    </tr>\n",
       "    <tr>\n",
       "      <th>2</th>\n",
       "      <td>4.019508</td>\n",
       "      <td>0.520474</td>\n",
       "    </tr>\n",
       "  </tbody>\n",
       "</table>\n",
       "</div>"
      ],
      "text/plain": [
       "        all  rectange\n",
       "0  4.086652  0.525295\n",
       "1  3.866280  0.537991\n",
       "2  4.019508  0.520474"
      ]
     },
     "execution_count": 68,
     "metadata": {},
     "output_type": "execute_result"
    }
   ],
   "source": [
    "runtimes"
   ]
  }
 ],
 "metadata": {
  "kernelspec": {
   "display_name": "storage_benchmarks",
   "language": "python",
   "name": "storage_benchmarks"
  },
  "language_info": {
   "codemirror_mode": {
    "name": "ipython",
    "version": 3
   },
   "file_extension": ".py",
   "mimetype": "text/x-python",
   "name": "python",
   "nbconvert_exporter": "python",
   "pygments_lexer": "ipython3",
   "version": "3.8.5"
  }
 },
 "nbformat": 4,
 "nbformat_minor": 4
}
