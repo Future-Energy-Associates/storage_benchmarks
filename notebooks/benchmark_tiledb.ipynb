{
 "cells": [
  {
   "cell_type": "code",
   "execution_count": 2,
   "metadata": {},
   "outputs": [],
   "source": [
    "import numpy as np\n",
    "import tiledb\n",
    "import pandas as pd\n",
    "import time"
   ]
  },
  {
   "cell_type": "code",
   "execution_count": 3,
   "metadata": {},
   "outputs": [],
   "source": [
    "tiledb_config = tiledb.Config()"
   ]
  },
  {
   "cell_type": "code",
   "execution_count": 4,
   "metadata": {},
   "outputs": [
    {
     "data": {
      "text/plain": [
       "'12'"
      ]
     },
     "execution_count": 4,
     "metadata": {},
     "output_type": "execute_result"
    }
   ],
   "source": [
    "tiledb_config[\"sm.num_reader_threads\"]"
   ]
  },
  {
   "cell_type": "code",
   "execution_count": 5,
   "metadata": {},
   "outputs": [
    {
     "data": {
      "text/plain": [
       "'12'"
      ]
     },
     "execution_count": 5,
     "metadata": {},
     "output_type": "execute_result"
    }
   ],
   "source": [
    "tiledb_config[\"vfs.num_threads\"]"
   ]
  },
  {
   "cell_type": "code",
   "execution_count": 6,
   "metadata": {},
   "outputs": [
    {
     "data": {
      "text/plain": [
       "'12'"
      ]
     },
     "execution_count": 6,
     "metadata": {},
     "output_type": "execute_result"
    }
   ],
   "source": [
    "tiledb_config[\"vfs.file.max_parallel_ops\"]"
   ]
  },
  {
   "cell_type": "markdown",
   "metadata": {},
   "source": [
    "## Reading"
   ]
  },
  {
   "cell_type": "code",
   "execution_count": 7,
   "metadata": {},
   "outputs": [],
   "source": [
    "array_names = [\n",
    "    'EUMETSAT', 'EUMETSAT_ONE_SHOT', 'EUMETSAT_ONE_SHOT_BWR_ZSTD', \n",
    "    'EUMETSAT_ONE_SHOT_LZ4', 'EUMETSAT_ONE_SHOT_ZSTD']"
   ]
  },
  {
   "cell_type": "code",
   "execution_count": 8,
   "metadata": {},
   "outputs": [],
   "source": [
    "runtimes = pd.DataFrame(np.NaN, columns=['all', 'rectangle'], index=array_names)"
   ]
  },
  {
   "cell_type": "code",
   "execution_count": 10,
   "metadata": {},
   "outputs": [
    {
     "name": "stdout",
     "output_type": "stream",
     "text": [
      "EUMETSAT\n",
      "all          10.941377\n",
      "rectangle     0.424964\n",
      "Name: EUMETSAT, dtype: float64\n",
      "\n",
      "EUMETSAT_ONE_SHOT\n",
      "all          16.472468\n",
      "rectangle     0.269059\n",
      "Name: EUMETSAT_ONE_SHOT, dtype: float64\n",
      "\n",
      "EUMETSAT_ONE_SHOT_BWR_ZSTD\n",
      "all          15.873504\n",
      "rectangle     0.279759\n",
      "Name: EUMETSAT_ONE_SHOT_BWR_ZSTD, dtype: float64\n",
      "\n",
      "EUMETSAT_ONE_SHOT_LZ4\n",
      "all          16.090696\n",
      "rectangle     0.249709\n",
      "Name: EUMETSAT_ONE_SHOT_LZ4, dtype: float64\n",
      "\n",
      "EUMETSAT_ONE_SHOT_ZSTD\n",
      "all          15.873990\n",
      "rectangle     0.289291\n",
      "Name: EUMETSAT_ONE_SHOT_ZSTD, dtype: float64\n",
      "\n"
     ]
    }
   ],
   "source": [
    "for array_name in array_names:\n",
    "    print(array_name)\n",
    "    \n",
    "    # Read entire array\n",
    "    t0 = time.time()\n",
    "    with tiledb.DenseArray(array_name, mode='r') as array:\n",
    "        data = array[:]['HRV']\n",
    "    t1 = time.time()\n",
    "    runtimes['all'][array_name] = t1 - t0\n",
    "    \n",
    "    # Read just rectangle\n",
    "    t2 = time.time()\n",
    "    with tiledb.DenseArray(array_name, mode='r') as array:\n",
    "        data = array[:, 128:256, 128:256]['HRV']\n",
    "    t3 = time.time()\n",
    "    runtimes['rectangle'][array_name] = t3 - t2\n",
    "    \n",
    "    print(runtimes.loc[array_name])\n",
    "    print()"
   ]
  },
  {
   "cell_type": "code",
   "execution_count": 11,
   "metadata": {},
   "outputs": [
    {
     "data": {
      "text/html": [
       "<div>\n",
       "<style scoped>\n",
       "    .dataframe tbody tr th:only-of-type {\n",
       "        vertical-align: middle;\n",
       "    }\n",
       "\n",
       "    .dataframe tbody tr th {\n",
       "        vertical-align: top;\n",
       "    }\n",
       "\n",
       "    .dataframe thead th {\n",
       "        text-align: right;\n",
       "    }\n",
       "</style>\n",
       "<table border=\"1\" class=\"dataframe\">\n",
       "  <thead>\n",
       "    <tr style=\"text-align: right;\">\n",
       "      <th></th>\n",
       "      <th>all</th>\n",
       "      <th>rectangle</th>\n",
       "    </tr>\n",
       "  </thead>\n",
       "  <tbody>\n",
       "    <tr>\n",
       "      <th>EUMETSAT</th>\n",
       "      <td>10.941377</td>\n",
       "      <td>0.424964</td>\n",
       "    </tr>\n",
       "    <tr>\n",
       "      <th>EUMETSAT_ONE_SHOT</th>\n",
       "      <td>16.472468</td>\n",
       "      <td>0.269059</td>\n",
       "    </tr>\n",
       "    <tr>\n",
       "      <th>EUMETSAT_ONE_SHOT_BWR_ZSTD</th>\n",
       "      <td>15.873504</td>\n",
       "      <td>0.279759</td>\n",
       "    </tr>\n",
       "    <tr>\n",
       "      <th>EUMETSAT_ONE_SHOT_LZ4</th>\n",
       "      <td>16.090696</td>\n",
       "      <td>0.249709</td>\n",
       "    </tr>\n",
       "    <tr>\n",
       "      <th>EUMETSAT_ONE_SHOT_ZSTD</th>\n",
       "      <td>15.873990</td>\n",
       "      <td>0.289291</td>\n",
       "    </tr>\n",
       "  </tbody>\n",
       "</table>\n",
       "</div>"
      ],
      "text/plain": [
       "                                  all  rectangle\n",
       "EUMETSAT                    10.941377   0.424964\n",
       "EUMETSAT_ONE_SHOT           16.472468   0.269059\n",
       "EUMETSAT_ONE_SHOT_BWR_ZSTD  15.873504   0.279759\n",
       "EUMETSAT_ONE_SHOT_LZ4       16.090696   0.249709\n",
       "EUMETSAT_ONE_SHOT_ZSTD      15.873990   0.289291"
      ]
     },
     "execution_count": 11,
     "metadata": {},
     "output_type": "execute_result"
    }
   ],
   "source": [
    "runtimes"
   ]
  },
  {
   "cell_type": "markdown",
   "metadata": {},
   "source": [
    "old:\n",
    "\n",
    "```\n",
    "EUMETSAT\n",
    "all          11.038257\n",
    "rectangle     0.506096\n",
    "Name: EUMETSAT, dtype: float64\n",
    "\n",
    "EUMETSAT_ONE_SHOT\n",
    "all          16.700042\n",
    "rectangle     0.284340\n",
    "Name: EUMETSAT_ONE_SHOT, dtype: float64\n",
    "\n",
    "EUMETSAT_ONE_SHOT_BWR_ZSTD\n",
    "all          16.551893\n",
    "rectangle     0.332177\n",
    "Name: EUMETSAT_ONE_SHOT_BWR_ZSTD, dtype: float64\n",
    "\n",
    "EUMETSAT_ONE_SHOT_LZ4\n",
    "all          17.624213\n",
    "rectangle     0.301604\n",
    "Name: EUMETSAT_ONE_SHOT_LZ4, dtype: float64\n",
    "\n",
    "EUMETSAT_ONE_SHOT_ZSTD\n",
    "all          17.820761\n",
    "rectangle     0.361720\n",
    "Name: EUMETSAT_ONE_SHOT_ZSTD, dtype: float64\n",
    "```"
   ]
  },
  {
   "cell_type": "code",
   "execution_count": null,
   "metadata": {},
   "outputs": [],
   "source": []
  }
 ],
 "metadata": {
  "kernelspec": {
   "display_name": "storage_benchmarks",
   "language": "python",
   "name": "storage_benchmarks"
  },
  "language_info": {
   "codemirror_mode": {
    "name": "ipython",
    "version": 3
   },
   "file_extension": ".py",
   "mimetype": "text/x-python",
   "name": "python",
   "nbconvert_exporter": "python",
   "pygments_lexer": "ipython3",
   "version": "3.8.5"
  }
 },
 "nbformat": 4,
 "nbformat_minor": 4
}
