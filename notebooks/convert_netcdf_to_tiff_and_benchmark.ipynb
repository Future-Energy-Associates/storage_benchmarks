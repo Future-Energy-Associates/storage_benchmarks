{
 "cells": [
  {
   "cell_type": "code",
   "execution_count": 1,
   "metadata": {},
   "outputs": [],
   "source": [
    "from pathlib import Path\n",
    "import xarray as xr\n",
    "import numpy as np\n",
    "import tiledb\n",
    "import pandas as pd\n",
    "from datetime import datetime\n",
    "import time\n",
    "import tifffile\n",
    "import matplotlib.pyplot as plt"
   ]
  },
  {
   "cell_type": "code",
   "execution_count": 2,
   "metadata": {},
   "outputs": [],
   "source": [
    "SATELLITE_DATA_PATH = Path('~/data/EUMETSAT/reprojected/just_UK/2019/06/03/').expanduser()\n",
    "TIFF_PATH = Path('~/data/EUMETSAT/tiff/reprojected/just_UK/2019/06/03/').expanduser()"
   ]
  },
  {
   "cell_type": "code",
   "execution_count": 3,
   "metadata": {},
   "outputs": [],
   "source": [
    "if not TIFF_PATH.exists():\n",
    "    TIFF_PATH.mkdir(parents=True)"
   ]
  },
  {
   "cell_type": "code",
   "execution_count": 4,
   "metadata": {},
   "outputs": [
    {
     "name": "stdout",
     "output_type": "stream",
     "text": [
      "18 netcdf files found.\n"
     ]
    }
   ],
   "source": [
    "netcdf_filenames = SATELLITE_DATA_PATH.glob('*.nc')\n",
    "netcdf_filenames = list(netcdf_filenames)\n",
    "netcdf_filenames.sort()\n",
    "num_nc_files = len(netcdf_filenames)\n",
    "print(f'{num_nc_files} netcdf files found.')"
   ]
  },
  {
   "cell_type": "code",
   "execution_count": 36,
   "metadata": {},
   "outputs": [],
   "source": [
    "# Write TIFFs\n",
    "\n",
    "def data_array_to_tiff(da):\n",
    "    for dt in da.time.values:\n",
    "        ts = pd.Timestamp(dt)\n",
    "        raw_image = da.sel(time=ts)\n",
    "        # normalise TODO: Use hard-coded number to normalise by!\n",
    "        image = raw_image.copy().values\n",
    "        image /= image.max()\n",
    "        image *= 255\n",
    "        #image = image.astype(np.float16)\n",
    "        image = image.round().astype(np.uint8)\n",
    "        filename = ts.strftime('HRV_%Y-%m-%dT%H%M.tiff')\n",
    "        filename = TIFF_PATH / filename\n",
    "        with tifffile.TiffWriter(filename) as tiff:\n",
    "            tiff.save(image, compress=9)"
   ]
  },
  {
   "cell_type": "code",
   "execution_count": 37,
   "metadata": {},
   "outputs": [
    {
     "name": "stdout",
     "output_type": "stream",
     "text": [
      "CPU times: user 43.2 s, sys: 2.44 s, total: 45.6 s\n",
      "Wall time: 46.5 s\n"
     ]
    }
   ],
   "source": [
    "%%time\n",
    "\n",
    "for filename in netcdf_filenames:\n",
    "    da = xr.load_dataset(filename)['HRV']\n",
    "    data_array_to_tiff(da)"
   ]
  },
  {
   "cell_type": "code",
   "execution_count": 38,
   "metadata": {},
   "outputs": [
    {
     "data": {
      "text/plain": [
       "216"
      ]
     },
     "execution_count": 38,
     "metadata": {},
     "output_type": "execute_result"
    }
   ],
   "source": [
    "tiff_filenames = TIFF_PATH.glob('*.tiff')\n",
    "tiff_filenames = list(tiff_filenames)\n",
    "tiff_filenames.sort()\n",
    "len(tiff_filenames)"
   ]
  },
  {
   "cell_type": "code",
   "execution_count": 39,
   "metadata": {},
   "outputs": [
    {
     "name": "stdout",
     "output_type": "stream",
     "text": [
      "CPU times: user 3.05 s, sys: 448 ms, total: 3.5 s\n",
      "Wall time: 1.19 s\n"
     ]
    }
   ],
   "source": [
    "%%time\n",
    "for i, filename in enumerate(tiff_filenames):\n",
    "    _ = tifffile.imread(filename)"
   ]
  },
  {
   "cell_type": "code",
   "execution_count": 40,
   "metadata": {},
   "outputs": [
    {
     "name": "stdout",
     "output_type": "stream",
     "text": [
      "CPU times: user 3.12 s, sys: 436 ms, total: 3.56 s\n",
      "Wall time: 1.25 s\n"
     ]
    }
   ],
   "source": [
    "%%time\n",
    "_ = tifffile.imread(tiff_filenames)"
   ]
  },
  {
   "cell_type": "code",
   "execution_count": 41,
   "metadata": {},
   "outputs": [
    {
     "name": "stderr",
     "output_type": "stream",
     "text": [
      "/Users/JackKelly/miniconda3/envs/storage_benchmarks/lib/python3.8/site-packages/rasterio/__init__.py:218: NotGeoreferencedWarning: Dataset has no geotransform set. The identity matrix may be returned.\n",
      "  s = DatasetReader(path, driver=driver, sharing=sharing, **kwargs)\n"
     ]
    },
    {
     "name": "stdout",
     "output_type": "stream",
     "text": [
      "CPU times: user 340 ms, sys: 108 ms, total: 448 ms\n",
      "Wall time: 451 ms\n"
     ]
    }
   ],
   "source": [
    "%%time\n",
    "for i, filename in enumerate(tiff_filenames):\n",
    "    img = xr.open_rasterio(filename)\n",
    "    _ = img[0, 128:256, 128:256]"
   ]
  },
  {
   "cell_type": "markdown",
   "metadata": {},
   "source": [
    "float32\n",
    "* all: 4.58 s\n",
    "* rectangle: 0.529 s\n",
    "\n"
   ]
  },
  {
   "cell_type": "markdown",
   "metadata": {},
   "source": [
    "float16\n",
    "* all: 2.57s\n",
    "* rect: 0.383s"
   ]
  },
  {
   "cell_type": "markdown",
   "metadata": {},
   "source": [
    "uint8\n",
    "* all 1.19s\n",
    "* rect 0.453s"
   ]
  },
  {
   "cell_type": "code",
   "execution_count": null,
   "metadata": {},
   "outputs": [],
   "source": []
  }
 ],
 "metadata": {
  "kernelspec": {
   "display_name": "storage_benchmarks",
   "language": "python",
   "name": "storage_benchmarks"
  },
  "language_info": {
   "codemirror_mode": {
    "name": "ipython",
    "version": 3
   },
   "file_extension": ".py",
   "mimetype": "text/x-python",
   "name": "python",
   "nbconvert_exporter": "python",
   "pygments_lexer": "ipython3",
   "version": "3.8.5"
  }
 },
 "nbformat": 4,
 "nbformat_minor": 4
}
