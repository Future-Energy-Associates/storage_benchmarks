{
 "cells": [
  {
   "cell_type": "code",
   "execution_count": 134,
   "metadata": {},
   "outputs": [],
   "source": [
    "from pathlib import Path\n",
    "import xarray as xr\n",
    "import numpy as np\n",
    "import tiledb\n",
    "import pandas as pd\n",
    "from datetime import datetime\n",
    "import time"
   ]
  },
  {
   "cell_type": "code",
   "execution_count": 51,
   "metadata": {},
   "outputs": [],
   "source": [
    "SATELLITE_DATA_PATH = Path('~/data/EUMETSAT/reprojected/just_UK/2019/06/03/').expanduser()"
   ]
  },
  {
   "cell_type": "code",
   "execution_count": 60,
   "metadata": {},
   "outputs": [
    {
     "name": "stdout",
     "output_type": "stream",
     "text": [
      "18 netcdf files found.\n"
     ]
    }
   ],
   "source": [
    "netcdf_filenames = SATELLITE_DATA_PATH.glob('*.nc')\n",
    "netcdf_filenames = list(netcdf_filenames)\n",
    "netcdf_filenames.sort()\n",
    "num_nc_files = len(netcdf_filenames)\n",
    "print(f'{num_nc_files} netcdf files found.')"
   ]
  },
  {
   "cell_type": "code",
   "execution_count": 67,
   "metadata": {},
   "outputs": [],
   "source": [
    "data = []\n",
    "for i, filename in enumerate(netcdf_filenames):\n",
    "    ds = xr.open_dataset(filename)['HRV']\n",
    "    data.append(ds)"
   ]
  },
  {
   "cell_type": "code",
   "execution_count": 69,
   "metadata": {},
   "outputs": [],
   "source": [
    "%%time\n",
    "da = xr.concat(data, dim='time')"
   ]
  },
  {
   "cell_type": "code",
   "execution_count": 129,
   "metadata": {},
   "outputs": [],
   "source": [
    "ARRAY_NAME = 'EUMETSAT_ONE_SHOT'"
   ]
  },
  {
   "cell_type": "code",
   "execution_count": 116,
   "metadata": {},
   "outputs": [],
   "source": [
    "# Name of array.\n",
    "def create_array():\n",
    "    time_dim = tiledb.Dim(\n",
    "            name=\"time\", \n",
    "            domain=(0, len(da['time'])-1), \n",
    "            tile=4,\n",
    "            dtype=np.uint16)\n",
    "    y_dim = tiledb.Dim(name=\"y\", domain=(0, len(da['y'])-1), tile=32, dtype=np.uint16)\n",
    "    x_dim = tiledb.Dim(name=\"x\", domain=(0, len(da['x'])-1), tile=32, dtype=np.uint16)\n",
    "    dom = tiledb.Domain(time_dim, y_dim, x_dim)\n",
    "\n",
    "    # The array will be dense with a single attribute \"a\" so each (i,j) cell can store an integer.\n",
    "    attr = tiledb.Attr(\n",
    "        name=\"HRV\", dtype=np.float32,\n",
    "        filters=tiledb.FilterList([tiledb.BitWidthReductionFilter(), tiledb.ZstdFilter(level=10)]))\n",
    "\n",
    "    schema = tiledb.ArraySchema(\n",
    "        domain=dom, sparse=False,\n",
    "        attrs=[attr])\n",
    "\n",
    "    # Create the (empty) array on disk.\n",
    "    tiledb.DenseArray.create(ARRAY_NAME, schema)"
   ]
  },
  {
   "cell_type": "code",
   "execution_count": 117,
   "metadata": {},
   "outputs": [],
   "source": [
    "create_array()"
   ]
  },
  {
   "cell_type": "code",
   "execution_count": 118,
   "metadata": {},
   "outputs": [
    {
     "name": "stdout",
     "output_type": "stream",
     "text": [
      "CPU times: user 12.2 s, sys: 6.26 s, total: 18.5 s\n",
      "Wall time: 19.4 s\n"
     ]
    }
   ],
   "source": [
    "%%time\n",
    "# Write data\n",
    "with tiledb.DenseArray(ARRAY_NAME, mode='w') as array:\n",
    "    array[:] = da.values"
   ]
  }
 ],
 "metadata": {
  "kernelspec": {
   "display_name": "storage_benchmarks",
   "language": "python",
   "name": "storage_benchmarks"
  },
  "language_info": {
   "codemirror_mode": {
    "name": "ipython",
    "version": 3
   },
   "file_extension": ".py",
   "mimetype": "text/x-python",
   "name": "python",
   "nbconvert_exporter": "python",
   "pygments_lexer": "ipython3",
   "version": "3.8.5"
  }
 },
 "nbformat": 4,
 "nbformat_minor": 4
}
