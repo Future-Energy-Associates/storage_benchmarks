{
 "cells": [
  {
   "cell_type": "code",
   "execution_count": 1,
   "metadata": {},
   "outputs": [],
   "source": [
    "import os\n",
    "import xarray as xr\n",
    "import time\n",
    "import pandas as pd\n",
    "import numpy as np\n",
    "from google.cloud import storage\n",
    "import netCDF4"
   ]
  },
  {
   "cell_type": "code",
   "execution_count": 2,
   "metadata": {},
   "outputs": [],
   "source": [
    "client = storage.Client()"
   ]
  },
  {
   "cell_type": "code",
   "execution_count": 3,
   "metadata": {},
   "outputs": [],
   "source": [
    "BUCKET = 'solar-pv-nowcasting-data'\n",
    "SATELLITE_DATA_PATH = 'satellite/EUMETSAT/SEVIRI_RSS/reprojected/just_UK/2019/06/03/'"
   ]
  },
  {
   "cell_type": "code",
   "execution_count": 4,
   "metadata": {},
   "outputs": [
    {
     "name": "stdout",
     "output_type": "stream",
     "text": [
      "18 netcdf files found.\n"
     ]
    }
   ],
   "source": [
    "blobs = client.list_blobs(BUCKET, prefix=SATELLITE_DATA_PATH)\n",
    "blobs = list(blobs)\n",
    "print(f'{len(blobs)} netcdf files found.')"
   ]
  },
  {
   "cell_type": "code",
   "execution_count": 5,
   "metadata": {},
   "outputs": [],
   "source": [
    "def open_netcdf_from_gcp(blob):\n",
    "    # Adapted from https://github.com/pydata/xarray/issues/1075#issuecomment-373541528\n",
    "    netcdf_bytes = blob.download_as_bytes()\n",
    "    nc4_ds = netCDF4.Dataset('EUMETSAT', memory=netcdf_bytes)\n",
    "    store = xr.backends.NetCDF4DataStore(nc4_ds)\n",
    "    return xr.open_dataset(store, engine='netcdf4')"
   ]
  },
  {
   "cell_type": "code",
   "execution_count": 6,
   "metadata": {},
   "outputs": [],
   "source": [
    "def load_all():\n",
    "    for blob in blobs:\n",
    "        ds = open_netcdf_from_gcp(blob)\n",
    "        ds.load()"
   ]
  },
  {
   "cell_type": "code",
   "execution_count": 7,
   "metadata": {},
   "outputs": [],
   "source": [
    "def load_rectange():\n",
    "    for blob in blobs:\n",
    "        ds = open_netcdf_from_gcp(blob)['HRV']\n",
    "        # Dimensions are time, x, y\n",
    "        ds_rect = ds[:, 128:256, 128:256]\n",
    "        ds_rect.load()"
   ]
  },
  {
   "cell_type": "code",
   "execution_count": 8,
   "metadata": {},
   "outputs": [],
   "source": [
    "NUM_RUNS = 3\n",
    "col_to_func = {'all': load_all, 'rectangle': load_rectange}\n",
    "runtimes = pd.DataFrame(np.NaN, columns=col_to_func.keys(), index=range(NUM_RUNS))"
   ]
  },
  {
   "cell_type": "code",
   "execution_count": 9,
   "metadata": {},
   "outputs": [
    {
     "name": "stdout",
     "output_type": "stream",
     "text": [
      "0\n",
      "all\n",
      "rectangle\n",
      "1\n",
      "all\n",
      "rectangle\n",
      "2\n",
      "all\n",
      "rectangle\n"
     ]
    }
   ],
   "source": [
    "for run_i in range(NUM_RUNS):\n",
    "    print(run_i)\n",
    "    for col, func in col_to_func.items():\n",
    "        print(col)\n",
    "        t0 = time.time()\n",
    "        func()\n",
    "        t1 = time.time()\n",
    "        runtime = t1 - t0\n",
    "        runtimes[col][run_i] = runtime"
   ]
  },
  {
   "cell_type": "code",
   "execution_count": 10,
   "metadata": {},
   "outputs": [
    {
     "data": {
      "text/html": [
       "<div>\n",
       "<style scoped>\n",
       "    .dataframe tbody tr th:only-of-type {\n",
       "        vertical-align: middle;\n",
       "    }\n",
       "\n",
       "    .dataframe tbody tr th {\n",
       "        vertical-align: top;\n",
       "    }\n",
       "\n",
       "    .dataframe thead th {\n",
       "        text-align: right;\n",
       "    }\n",
       "</style>\n",
       "<table border=\"1\" class=\"dataframe\">\n",
       "  <thead>\n",
       "    <tr style=\"text-align: right;\">\n",
       "      <th></th>\n",
       "      <th>all</th>\n",
       "      <th>rectangle</th>\n",
       "    </tr>\n",
       "  </thead>\n",
       "  <tbody>\n",
       "    <tr>\n",
       "      <th>0</th>\n",
       "      <td>14.519056</td>\n",
       "      <td>7.030767</td>\n",
       "    </tr>\n",
       "    <tr>\n",
       "      <th>1</th>\n",
       "      <td>11.673636</td>\n",
       "      <td>6.619871</td>\n",
       "    </tr>\n",
       "    <tr>\n",
       "      <th>2</th>\n",
       "      <td>10.836033</td>\n",
       "      <td>6.894945</td>\n",
       "    </tr>\n",
       "  </tbody>\n",
       "</table>\n",
       "</div>"
      ],
      "text/plain": [
       "         all  rectangle\n",
       "0  14.519056   7.030767\n",
       "1  11.673636   6.619871\n",
       "2  10.836033   6.894945"
      ]
     },
     "execution_count": 10,
     "metadata": {},
     "output_type": "execute_result"
    }
   ],
   "source": [
    "runtimes"
   ]
  },
  {
   "cell_type": "code",
   "execution_count": null,
   "metadata": {},
   "outputs": [],
   "source": []
  }
 ],
 "metadata": {
  "kernelspec": {
   "display_name": "storage_benchmarks",
   "language": "python",
   "name": "storage_benchmarks"
  },
  "language_info": {
   "codemirror_mode": {
    "name": "ipython",
    "version": 3
   },
   "file_extension": ".py",
   "mimetype": "text/x-python",
   "name": "python",
   "nbconvert_exporter": "python",
   "pygments_lexer": "ipython3",
   "version": "3.8.5"
  }
 },
 "nbformat": 4,
 "nbformat_minor": 4
}
